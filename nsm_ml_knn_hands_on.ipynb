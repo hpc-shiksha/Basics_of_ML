{
  "nbformat": 4,
  "nbformat_minor": 0,
  "metadata": {
    "colab": {
      "name": "nsm-ml-knn-hands-on",
      "provenance": [],
      "collapsed_sections": []
    },
    "kernelspec": {
      "display_name": "Python 3",
      "name": "python3"
    }
  },
  "cells": [
    {
      "cell_type": "markdown",
      "metadata": {
        "id": "_RiN9mST03Qq"
      },
      "source": [
        "# $k$-NN classifier \n",
        "\n",
        "Based on the Python library **sklean**\n",
        "\n",
        "\n",
        "\n"
      ]
    },
    {
      "cell_type": "code",
      "metadata": {
        "id": "66J7UB5p4Eta"
      },
      "source": [
        "# Import all required Python packages. \n",
        "\n",
        "from sklearn import datasets\n",
        "from sklearn.model_selection import train_test_split\n",
        "from sklearn.neighbors import KNeighborsClassifier, KNeighborsRegressor\n",
        "from sklearn.metrics import accuracy_score\n",
        "from matplotlib import pyplot as plt\n",
        "import numpy as np"
      ],
      "execution_count": null,
      "outputs": []
    },
    {
      "cell_type": "markdown",
      "metadata": {
        "id": "959YjBk9-rYt"
      },
      "source": [
        "### Iris dataset \n",
        "\n",
        "Loads the dataset from the sklearn package "
      ]
    },
    {
      "cell_type": "code",
      "metadata": {
        "id": "rW_BgdLI0-SL",
        "colab": {
          "base_uri": "https://localhost:8080/"
        },
        "outputId": "3575c464-7780-4882-8f04-2e654ea635e2"
      },
      "source": [
        "# Loads the dataset\n",
        "iris = datasets.load_iris()\n",
        "\n",
        "# features: 'Sepal Length', 'Sepal Width', 'Petal Length', 'Petal Width'\n",
        "# Select two features: Sepal Width, Petal Width in the dataset \n",
        "X = iris.data[:, [1, 3]] \n",
        "y = iris.target \n",
        "\n",
        "print(X.shape)\n",
        "print(y.shape)\n",
        "\n",
        "print(y[1:4])"
      ],
      "execution_count": null,
      "outputs": [
        {
          "output_type": "stream",
          "text": [
            "(150, 2)\n",
            "(150,)\n",
            "[0 0 0]\n"
          ],
          "name": "stdout"
        }
      ]
    },
    {
      "cell_type": "markdown",
      "metadata": {
        "id": "Ixe_0S1B1FJE"
      },
      "source": [
        "\n",
        "Splits the data into train and test set via *stratified sampling* \n"
      ]
    },
    {
      "cell_type": "code",
      "metadata": {
        "id": "LRsKFDAe0tY9",
        "colab": {
          "base_uri": "https://localhost:8080/"
        },
        "outputId": "ec2240aa-83e0-42f1-85da-9ed037b0c1da"
      },
      "source": [
        "\n",
        "X_trn, X_test, y_trn, y_test = train_test_split(X, y, test_size=0.333, random_state=0, stratify=y)\n",
        "\n",
        "print(X_trn.shape)\n",
        "print(X_test.shape)\n"
      ],
      "execution_count": null,
      "outputs": [
        {
          "output_type": "stream",
          "text": [
            "(100, 2)\n",
            "(50, 2)\n"
          ],
          "name": "stdout"
        }
      ]
    },
    {
      "cell_type": "markdown",
      "metadata": {
        "id": "7h7_cTRs-Gec"
      },
      "source": [
        "Visualize the Iris training data ($n = 100, d = 2$) using scatterplot"
      ]
    },
    {
      "cell_type": "code",
      "metadata": {
        "id": "JuNznMBK4UUc",
        "colab": {
          "base_uri": "https://localhost:8080/",
          "height": 390
        },
        "outputId": "bdfa3e5e-65ea-4571-df32-e48fec76964d"
      },
      "source": [
        "\n",
        "plt.figure(2, figsize=(10, 6))\n",
        "plt.clf()\n",
        "plt.scatter(X_trn[:, 0], X_trn[:, 1], c=y_trn, cmap=plt.cm.Set1, edgecolor='k')\n",
        "plt.xlabel('Sepal Length')\n",
        "plt.ylabel('Petal Length')\n",
        "plt.show()"
      ],
      "execution_count": null,
      "outputs": [
        {
          "output_type": "display_data",
          "data": {
            "image/png": "[encoded data removed]",
            "text/plain": [
              "<Figure size 720x432 with 1 Axes>"
            ]
          },
          "metadata": {
            "tags": [],
            "needs_background": "light"
          }
        }
      ]
    },
    {
      "cell_type": "markdown",
      "metadata": {
        "id": "CimFKfk22_5I"
      },
      "source": [
        "### Creates a $k$-NN classifier object \n",
        "\n",
        "Number of neighbors are set as $k = 12$. The $k$-NN model is built using the training data. \n"
      ]
    },
    {
      "cell_type": "code",
      "metadata": {
        "id": "1ofTjwUL279J",
        "colab": {
          "base_uri": "https://localhost:8080/"
        },
        "outputId": "56e79832-a5d2-4a8a-8060-c1ec746eb375"
      },
      "source": [
        "knn = KNeighborsClassifier(n_neighbors=12)\n",
        "knn.fit(X_trn, y_trn)"
      ],
      "execution_count": null,
      "outputs": [
        {
          "output_type": "execute_result",
          "data": {
            "text/plain": [
              "KNeighborsClassifier(algorithm='auto', leaf_size=30, metric='minkowski',\n",
              "                     metric_params=None, n_jobs=None, n_neighbors=12, p=2,\n",
              "                     weights='uniform')"
            ]
          },
          "metadata": {
            "tags": []
          },
          "execution_count": 12
        }
      ]
    },
    {
      "cell_type": "markdown",
      "metadata": {
        "id": "yvxndYqE3RUN"
      },
      "source": [
        "### Predict class labels for training data "
      ]
    },
    {
      "cell_type": "code",
      "metadata": {
        "id": "ZbF3QuYH29BM",
        "colab": {
          "base_uri": "https://localhost:8080/"
        },
        "outputId": "6e44c884-dfec-496a-878c-809f79224af9"
      },
      "source": [
        "y_trn_pred = knn.predict(X_trn)\n",
        "trn_acc = accuracy_score(y_trn_pred, y_trn)\n",
        "\n",
        "print('train accuracy:', trn_acc)"
      ],
      "execution_count": null,
      "outputs": [
        {
          "output_type": "stream",
          "text": [
            "train accuracy: 0.97\n"
          ],
          "name": "stdout"
        }
      ]
    },
    {
      "cell_type": "markdown",
      "metadata": {
        "id": "uf9w91Gg22Za"
      },
      "source": [
        "### Predict class labels for test data "
      ]
    },
    {
      "cell_type": "code",
      "metadata": {
        "id": "0KC92eC32-h7",
        "colab": {
          "base_uri": "https://localhost:8080/"
        },
        "outputId": "37fc8bc0-dd5e-46df-921e-4cf12c4a0176"
      },
      "source": [
        "y_test_pred = knn.predict(X_test)\n",
        "test_acc = accuracy_score(y_test_pred, y_test)\n",
        "\n",
        "print('test accuracy:', test_acc)"
      ],
      "execution_count": null,
      "outputs": [
        {
          "output_type": "stream",
          "text": [
            "test accuracy: 0.94\n"
          ],
          "name": "stdout"
        }
      ]
    },
    {
      "cell_type": "markdown",
      "metadata": {
        "id": "qSukqlheBfjW"
      },
      "source": [
        "# $k$-NN regression \n",
        "\n",
        "Adapted from [sklearn example](https://scikit-learn.org/stable/auto_examples/neighbors/plot_regression.html)\n",
        "\n",
        "We first generate a synthetic data.  "
      ]
    },
    {
      "cell_type": "code",
      "metadata": {
        "colab": {
          "base_uri": "https://localhost:8080/",
          "height": 266
        },
        "id": "mXObf3ddBkPk",
        "outputId": "f324c2e7-dc21-4c25-cb39-b8dc6cd6bfec"
      },
      "source": [
        "X = np.sort(5 * np.random.rand(40, 1), axis=0) # x-axis \n",
        "y = np.sin(X).ravel() # y-axis \n",
        "y[::5] += 2 * (0.5 - np.random.rand(8)) # Add noise to every 5th target \n",
        "\n",
        "plt.scatter(X, y, color='darkorange', label='data')\n",
        "plt.legend()\n",
        "plt.show()"
      ],
      "execution_count": null,
      "outputs": [
        {
          "output_type": "display_data",
          "data": {
            "image/png": "[encoded data removed]",
            "text/plain": [
              "<Figure size 432x288 with 1 Axes>"
            ]
          },
          "metadata": {
            "tags": [],
            "needs_background": "light"
          }
        }
      ]
    },
    {
      "cell_type": "markdown",
      "metadata": {
        "id": "1B5_i6LFBonR"
      },
      "source": [
        "We now generate $500$ test datapoints. "
      ]
    },
    {
      "cell_type": "code",
      "metadata": {
        "colab": {
          "base_uri": "https://localhost:8080/"
        },
        "id": "lYHVs5aUDBXV",
        "outputId": "36acdfc1-9dd9-4f7b-8d97-8307c000b38f"
      },
      "source": [
        "X_test = np.linspace(0, 5, 500)[:, np.newaxis]\n",
        "\n",
        "print(len(X_test))"
      ],
      "execution_count": null,
      "outputs": [
        {
          "output_type": "stream",
          "text": [
            "500\n"
          ],
          "name": "stdout"
        }
      ]
    },
    {
      "cell_type": "markdown",
      "metadata": {
        "id": "sB_zWB7uDDAB"
      },
      "source": [
        "Fit the regression model "
      ]
    },
    {
      "cell_type": "code",
      "metadata": {
        "colab": {
          "base_uri": "https://localhost:8080/",
          "height": 266
        },
        "id": "Xju9BbrMBnyL",
        "outputId": "a95d5f21-aa23-4abf-a5cf-d98405eb3cef"
      },
      "source": [
        "\n",
        "n_neighbors = 5 # Sets k \n",
        "knn_reg = KNeighborsRegressor(n_neighbors) # default is Euclidean distance \n",
        "y_pred = knn_reg.fit(X, y).predict(X_test)\n",
        "\n",
        "\n",
        "plt.scatter(X, y, color='darkorange', label='data')\n",
        "plt.plot(X_test, y_pred, color='navy', label='prediction')\n",
        "plt.legend()\n",
        "plt.show()"
      ],
      "execution_count": null,
      "outputs": [
        {
          "output_type": "display_data",
          "data": {
            "image/png": "[encoded data removed]",
            "text/plain": [
              "<Figure size 432x288 with 1 Axes>"
            ]
          },
          "metadata": {
            "tags": [],
            "needs_background": "light"
          }
        }
      ]
    }
  ]
}