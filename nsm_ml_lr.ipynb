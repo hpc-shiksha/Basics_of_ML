{
  "nbformat": 4,
  "nbformat_minor": 0,
  "metadata": {
    "colab": {
      "name": "nsm-ml-lr",
      "provenance": [],
      "collapsed_sections": []
    },
    "kernelspec": {
      "display_name": "Python 3",
      "name": "python3"
    }
  },
  "cells": [
    {
      "cell_type": "markdown",
      "metadata": {
        "id": "m2Biia3QFvJN"
      },
      "source": [
        "# Linear regression on a diabetes dataset \n",
        "\n",
        "This example is based on the **sklearn** Python library. \n",
        "\n",
        "Today we look at the **diabetes dataset**, which consists of the following features. \n",
        "- age, age in years\n",
        "- sex\n",
        "- bmi, body mass index\n",
        "- bp, average blood pressure\n",
        "- s1 tc, T-Cells (a type of white blood cells)\n",
        "- s2 ldl, low-density lipoproteins\n",
        "- s3 hdl, high-density lipoproteins\n",
        "- s4 tch, thyroid stimulating hormone\n",
        "- s5 ltg, lamotrigine\n",
        "- s6 glu, blood sugar level\n",
        "\n",
        "Features have been mean centered and scaled. The outcom variable $y$ is a measure of disease progression. \n",
        "\n"
      ]
    },
    {
      "cell_type": "code",
      "metadata": {
        "colab": {
          "base_uri": "https://localhost:8080/"
        },
        "id": "9Ab69iU-Cf_a",
        "outputId": "ad8bd95f-691e-487f-cdfc-4e79d98ddf37"
      },
      "source": [
        "\n",
        "# Code source: Jaques Grobler\n",
        "# License: BSD 3 clause\n",
        "# \n",
        "# Modified code from sklearn sample (see above)\n",
        "\n",
        "import matplotlib.pyplot as plt\n",
        "import numpy as np\n",
        "from sklearn import datasets, linear_model\n",
        "from sklearn.metrics import mean_squared_error\n",
        "\n",
        "# Load the diabetes dataset\n",
        "diabetes_X, diabetes_y = datasets.load_diabetes(return_X_y=True)\n",
        "\n",
        "print(diabetes_X.shape)\n",
        "print(diabetes_y[:2])\n",
        "print(diabetes_X[0,])\n",
        "\n"
      ],
      "execution_count": null,
      "outputs": [
        {
          "output_type": "stream",
          "text": [
            "(442, 10)\n",
            "[151.  75.]\n",
            "[ 0.03807591  0.05068012  0.06169621  0.02187235 -0.0442235  -0.03482076\n",
            " -0.04340085 -0.00259226  0.01990842 -0.01764613]\n"
          ],
          "name": "stdout"
        }
      ]
    },
    {
      "cell_type": "markdown",
      "metadata": {
        "id": "lPXK62c0eO6n"
      },
      "source": [
        "We take only the feature BMI for this experiment.  "
      ]
    },
    {
      "cell_type": "code",
      "metadata": {
        "colab": {
          "base_uri": "https://localhost:8080/"
        },
        "id": "nt_epYrpbuGW",
        "outputId": "c4345fff-3a6a-4554-fed2-9fe9744ce783"
      },
      "source": [
        "# Use only BMI: body mass index as feature \n",
        "diabetes_X = diabetes_X[:, np.newaxis, 2]\n",
        "\n",
        "# Split the data into training/testing sets\n",
        "diabetes_X_train = diabetes_X[:-20]\n",
        "diabetes_X_test = diabetes_X[-20:]\n",
        "\n",
        "# outcome: a measure of disease progression\n",
        "diabetes_y_train = diabetes_y[:-20]\n",
        "diabetes_y_test = diabetes_y[-20:]\n",
        "\n",
        "print(len(diabetes_y_train), len(diabetes_y_test))"
      ],
      "execution_count": null,
      "outputs": [
        {
          "output_type": "stream",
          "text": [
            "422 20\n"
          ],
          "name": "stdout"
        }
      ]
    },
    {
      "cell_type": "markdown",
      "metadata": {
        "id": "aPQOCce7EkyJ"
      },
      "source": [
        "### Visualize training data "
      ]
    },
    {
      "cell_type": "code",
      "metadata": {
        "colab": {
          "base_uri": "https://localhost:8080/",
          "height": 279
        },
        "id": "7nBYM3z9Cz8k",
        "outputId": "fbd192ff-294e-4ac0-cfa5-e0d0f4a00636"
      },
      "source": [
        "plt.scatter(diabetes_X_train, diabetes_y_train,  color='black')\n",
        "plt.xlabel('Body mass index')\n",
        "plt.ylabel('Disease progression')\n",
        "plt.show()"
      ],
      "execution_count": null,
      "outputs": [
        {
          "output_type": "display_data",
          "data": {
            "image/png": "[encoded data removed]",
            "text/plain": [
              "<Figure size 432x288 with 1 Axes>"
            ]
          },
          "metadata": {
            "tags": [],
            "needs_background": "light"
          }
        }
      ]
    },
    {
      "cell_type": "markdown",
      "metadata": {
        "id": "UiXy0aDuEwnl"
      },
      "source": [
        "### Fits a linear regression model "
      ]
    },
    {
      "cell_type": "code",
      "metadata": {
        "colab": {
          "base_uri": "https://localhost:8080/"
        },
        "id": "F4kuhWFoCw34",
        "outputId": "8da13b9b-910b-48d1-8eb4-83fdb122e68a"
      },
      "source": [
        "regr = linear_model.LinearRegression()\n",
        "regr.fit(diabetes_X_train, diabetes_y_train)"
      ],
      "execution_count": null,
      "outputs": [
        {
          "output_type": "execute_result",
          "data": {
            "text/plain": [
              "LinearRegression(copy_X=True, fit_intercept=True, n_jobs=None, normalize=False)"
            ]
          },
          "metadata": {
            "tags": []
          },
          "execution_count": 4
        }
      ]
    },
    {
      "cell_type": "markdown",
      "metadata": {
        "id": "Z--KfFBwE5nR"
      },
      "source": [
        "### Prediction for test data \n",
        "\n",
        "We predict outcome values $y$ for the test set points \n"
      ]
    },
    {
      "cell_type": "code",
      "metadata": {
        "colab": {
          "base_uri": "https://localhost:8080/"
        },
        "id": "jRKqkmP7E54V",
        "outputId": "c165427a-de62-4120-fa93-17ecc9686fa1"
      },
      "source": [
        "diabetes_y_pred = regr.predict(diabetes_X_test)\n",
        "print('Coefficient: ', regr.coef_[0], ' Intercept: ', regr.intercept_)\n",
        "\n"
      ],
      "execution_count": null,
      "outputs": [
        {
          "output_type": "stream",
          "text": [
            "Coefficient:  938.2378612512637  Intercept:  152.91886182616167\n"
          ],
          "name": "stdout"
        }
      ]
    },
    {
      "cell_type": "markdown",
      "metadata": {
        "id": "TRxT0CGhejb_"
      },
      "source": [
        "Visualize the predicted values "
      ]
    },
    {
      "cell_type": "code",
      "metadata": {
        "colab": {
          "base_uri": "https://localhost:8080/",
          "height": 296
        },
        "id": "y1xGnTt1ekAz",
        "outputId": "28cc6034-d740-46a0-d7e6-24584b68aad8"
      },
      "source": [
        "plt.scatter(diabetes_X_test, diabetes_y_test,  color='black')\n",
        "plt.plot(diabetes_X_test, diabetes_y_pred, color='blue', linewidth=1)\n",
        "plt.xlabel('Body mass index')\n",
        "plt.ylabel('Disease progression')\n",
        "plt.show()\n",
        "\n",
        "print('Mean squared error: ', mean_squared_error(diabetes_y_test, diabetes_y_pred))\n",
        "\n",
        "\n",
        "# import seaborn as sns \n",
        "# sns.regplot(x=diabetes_X_test, y=diabetes_y_pred)\n"
      ],
      "execution_count": null,
      "outputs": [
        {
          "output_type": "display_data",
          "data": {
            "image/png": "[encoded data removed]",
            "text/plain": [
              "<Figure size 432x288 with 1 Axes>"
            ]
          },
          "metadata": {
            "tags": [],
            "needs_background": "light"
          }
        },
        {
          "output_type": "stream",
          "text": [
            "Mean squared error:  2548.0723987259694\n"
          ],
          "name": "stdout"
        }
      ]
    }
  ]
}